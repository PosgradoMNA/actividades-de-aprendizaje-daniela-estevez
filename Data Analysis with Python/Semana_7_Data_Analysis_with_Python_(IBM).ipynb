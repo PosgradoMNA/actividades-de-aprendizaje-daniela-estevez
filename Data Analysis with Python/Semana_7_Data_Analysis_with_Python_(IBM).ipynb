{
  "nbformat": 4,
  "nbformat_minor": 0,
  "metadata": {
    "colab": {
      "provenance": [],
      "authorship_tag": "ABX9TyMDqYLtSg53x6ufZTIGpIJU",
      "include_colab_link": true
    },
    "kernelspec": {
      "name": "python3",
      "display_name": "Python 3"
    },
    "language_info": {
      "name": "python"
    }
  },
  "cells": [
    {
      "cell_type": "markdown",
      "metadata": {
        "id": "view-in-github",
        "colab_type": "text"
      },
      "source": [
        "<a href=\"https://colab.research.google.com/github/PosgradoMNA/actividades-de-aprendizaje-daniela-estevez/blob/main/Semana_7_Data_Analysis_with_Python_(IBM).ipynb\" target=\"_parent\"><img src=\"https://colab.research.google.com/assets/colab-badge.svg\" alt=\"Open In Colab\"/></a>"
      ]
    },
    {
      "cell_type": "markdown",
      "source": [
        "# Data Analysis with Python"
      ],
      "metadata": {
        "id": "vzUFwE-cq3kT"
      }
    },
    {
      "cell_type": "markdown",
      "source": [
        "**Nombre 1:** Daniela Estevez Rodriguez\n",
        "\n",
        "**Matricula 1:** A01793723\n",
        "<br>\n",
        "<br>\n",
        "\n",
        "**Materia:** Ciencia y analítica de datos\n",
        "\n",
        "**Profesor:** Victoria Guerrero Orozco\n",
        "\n",
        "**Fecha:** 1 de Noviembre de 2022"
      ],
      "metadata": {
        "id": "xHfIehBDrHZ9"
      }
    },
    {
      "cell_type": "markdown",
      "source": [
        "## Module 4 - Model Development"
      ],
      "metadata": {
        "id": "hZPzv_0d0FkR"
      }
    },
    {
      "cell_type": "code",
      "source": [
        "#Librerías\n",
        "\n",
        "import pandas as pd\n",
        "import numpy as np\n",
        "import matplotlib.pyplot as plt\n",
        "import seaborn as sns\n",
        "\n",
        "from sklearn.preprocessing import PolynomialFeatures, StandardScaler\n",
        "from sklearn.pipeline import Pipeline\n",
        "\n",
        "from sklearn.linear_model import LinearRegression\n",
        "\n",
        "from sklearn.metrics import mean_squared_error\n",
        "from sklearn.metrics import r2_score"
      ],
      "metadata": {
        "id": "52bzoF5QzGN3"
      },
      "execution_count": 1,
      "outputs": []
    },
    {
      "cell_type": "code",
      "source": [
        "#Import dataframe from last module\n",
        "url=\"https://archive.ics.uci.edu/ml/machine-learning-databases/autos/imports-85.data\"\n",
        "\n",
        "#convierte los datos a un dataframe\n",
        "df=pd.read_csv(url,header=None)\n",
        "\n",
        "# Coloca nombres a columnas\n",
        "headers = [\"symboling\", \"normalized-losses\",\"make\", \"fuel-type\", \"aspiration\", \"num-of-doors\",\"body-style\",\n",
        "           \"drive-wheels\", \"engine-location\", \"wheel-base\", \"length\", \"width\", \"height\",\"curb-weight\", \"engine-type\",\n",
        "           \"num-of-cylinders\", \"engine-size\",\"fuel-system\", \"bore\", \"stroke\",\"compression-ratio\", \"horsepower\",\"peak-rpm\", \n",
        "           \"city-mpg\", \"highway-mpg\", \"price\"]\n",
        "\n",
        "df.columns=headers"
      ],
      "metadata": {
        "id": "SNn9m_Viw9sU"
      },
      "execution_count": 2,
      "outputs": []
    },
    {
      "cell_type": "code",
      "source": [
        "#Cambia columnas objeto a numericas\n",
        "col=(\"normalized-losses\", \"bore\", \"stroke\", \"horsepower\",\"peak-rpm\", \"price\")\n",
        "\n",
        "for c in col:\n",
        "  #coverts ? to missing value\n",
        "  df[c] = df[c].replace('?', np.nan)\n",
        "  #change data-type\n",
        "  df[c]=df[c].astype(\"float64\")"
      ],
      "metadata": {
        "id": "s0YvSZ_rPHSY"
      },
      "execution_count": 3,
      "outputs": []
    },
    {
      "cell_type": "code",
      "source": [
        "# simply drop whole row with NaN in \"price\" column\n",
        "df.dropna(subset=[\"price\"], axis=0, inplace=True)\n",
        "# reset index, because we droped some rows\n",
        "df.reset_index(drop=True, inplace=True)"
      ],
      "metadata": {
        "id": "4mnw-cacPTnw"
      },
      "execution_count": 4,
      "outputs": []
    },
    {
      "cell_type": "code",
      "source": [
        "#Replace missing values with mean\n",
        "mean=df[\"normalized-losses\"].mean()\n",
        "df[\"normalized-losses\"].replace(np.nan,mean)\n",
        "\n",
        "avg_norm_loss = df[\"normalized-losses\"].mean(axis=0)\n",
        "df[\"normalized-losses\"].replace(np.nan, avg_norm_loss, inplace=True)\n",
        "\n",
        "avg_bore=df['bore'].mean(axis=0)\n",
        "df[\"bore\"].replace(np.nan, avg_bore, inplace=True)\n",
        "\n",
        "avg_str=df['stroke'].mean(axis=0)\n",
        "df[\"stroke\"].replace(np.nan, avg_str, inplace=True)\n",
        "\n",
        "avg_horsepower = df['horsepower'].mean(axis=0)\n",
        "df['horsepower'].replace(np.nan, avg_horsepower, inplace=True)\n",
        "\n",
        "avg_peakrpm=df['peak-rpm'].mean(axis=0)\n",
        "df['peak-rpm'].replace(np.nan, avg_peakrpm, inplace=True)"
      ],
      "metadata": {
        "id": "gmkMBr1sPLey"
      },
      "execution_count": 5,
      "outputs": []
    },
    {
      "cell_type": "code",
      "source": [
        "#replace the missing 'num-of-doors' values by the most frequent \n",
        "df[\"num-of-doors\"].replace(np.nan, \"four\", inplace=True)"
      ],
      "metadata": {
        "id": "qfoXt5wpPNcL"
      },
      "execution_count": 6,
      "outputs": []
    },
    {
      "cell_type": "code",
      "source": [
        "df.isnull().sum()"
      ],
      "metadata": {
        "colab": {
          "base_uri": "https://localhost:8080/"
        },
        "id": "NjnBuVV0PYje",
        "outputId": "bd953d71-7934-42f0-9c70-3ed27fa25459"
      },
      "execution_count": 7,
      "outputs": [
        {
          "output_type": "execute_result",
          "data": {
            "text/plain": [
              "symboling            0\n",
              "normalized-losses    0\n",
              "make                 0\n",
              "fuel-type            0\n",
              "aspiration           0\n",
              "num-of-doors         0\n",
              "body-style           0\n",
              "drive-wheels         0\n",
              "engine-location      0\n",
              "wheel-base           0\n",
              "length               0\n",
              "width                0\n",
              "height               0\n",
              "curb-weight          0\n",
              "engine-type          0\n",
              "num-of-cylinders     0\n",
              "engine-size          0\n",
              "fuel-system          0\n",
              "bore                 0\n",
              "stroke               0\n",
              "compression-ratio    0\n",
              "horsepower           0\n",
              "peak-rpm             0\n",
              "city-mpg             0\n",
              "highway-mpg          0\n",
              "price                0\n",
              "dtype: int64"
            ]
          },
          "metadata": {},
          "execution_count": 7
        }
      ]
    },
    {
      "cell_type": "code",
      "source": [
        "# Crea variable indicadora\n",
        "pd.get_dummies(df[\"fuel-type\"],drop_first=True)"
      ],
      "metadata": {
        "id": "w910MVeA7ex2",
        "colab": {
          "base_uri": "https://localhost:8080/",
          "height": 424
        },
        "outputId": "0e4c8d13-9c20-41ab-966a-15116c5521d5"
      },
      "execution_count": 8,
      "outputs": [
        {
          "output_type": "execute_result",
          "data": {
            "text/plain": [
              "     gas\n",
              "0      1\n",
              "1      1\n",
              "2      1\n",
              "3      1\n",
              "4      1\n",
              "..   ...\n",
              "196    1\n",
              "197    1\n",
              "198    1\n",
              "199    0\n",
              "200    1\n",
              "\n",
              "[201 rows x 1 columns]"
            ],
            "text/html": [
              "\n",
              "  <div id=\"df-709e92d9-21f9-4d6a-a27a-aa1d442ca0bc\">\n",
              "    <div class=\"colab-df-container\">\n",
              "      <div>\n",
              "<style scoped>\n",
              "    .dataframe tbody tr th:only-of-type {\n",
              "        vertical-align: middle;\n",
              "    }\n",
              "\n",
              "    .dataframe tbody tr th {\n",
              "        vertical-align: top;\n",
              "    }\n",
              "\n",
              "    .dataframe thead th {\n",
              "        text-align: right;\n",
              "    }\n",
              "</style>\n",
              "<table border=\"1\" class=\"dataframe\">\n",
              "  <thead>\n",
              "    <tr style=\"text-align: right;\">\n",
              "      <th></th>\n",
              "      <th>gas</th>\n",
              "    </tr>\n",
              "  </thead>\n",
              "  <tbody>\n",
              "    <tr>\n",
              "      <th>0</th>\n",
              "      <td>1</td>\n",
              "    </tr>\n",
              "    <tr>\n",
              "      <th>1</th>\n",
              "      <td>1</td>\n",
              "    </tr>\n",
              "    <tr>\n",
              "      <th>2</th>\n",
              "      <td>1</td>\n",
              "    </tr>\n",
              "    <tr>\n",
              "      <th>3</th>\n",
              "      <td>1</td>\n",
              "    </tr>\n",
              "    <tr>\n",
              "      <th>4</th>\n",
              "      <td>1</td>\n",
              "    </tr>\n",
              "    <tr>\n",
              "      <th>...</th>\n",
              "      <td>...</td>\n",
              "    </tr>\n",
              "    <tr>\n",
              "      <th>196</th>\n",
              "      <td>1</td>\n",
              "    </tr>\n",
              "    <tr>\n",
              "      <th>197</th>\n",
              "      <td>1</td>\n",
              "    </tr>\n",
              "    <tr>\n",
              "      <th>198</th>\n",
              "      <td>1</td>\n",
              "    </tr>\n",
              "    <tr>\n",
              "      <th>199</th>\n",
              "      <td>0</td>\n",
              "    </tr>\n",
              "    <tr>\n",
              "      <th>200</th>\n",
              "      <td>1</td>\n",
              "    </tr>\n",
              "  </tbody>\n",
              "</table>\n",
              "<p>201 rows × 1 columns</p>\n",
              "</div>\n",
              "      <button class=\"colab-df-convert\" onclick=\"convertToInteractive('df-709e92d9-21f9-4d6a-a27a-aa1d442ca0bc')\"\n",
              "              title=\"Convert this dataframe to an interactive table.\"\n",
              "              style=\"display:none;\">\n",
              "        \n",
              "  <svg xmlns=\"http://www.w3.org/2000/svg\" height=\"24px\"viewBox=\"0 0 24 24\"\n",
              "       width=\"24px\">\n",
              "    <path d=\"M0 0h24v24H0V0z\" fill=\"none\"/>\n",
              "    <path d=\"M18.56 5.44l.94 2.06.94-2.06 2.06-.94-2.06-.94-.94-2.06-.94 2.06-2.06.94zm-11 1L8.5 8.5l.94-2.06 2.06-.94-2.06-.94L8.5 2.5l-.94 2.06-2.06.94zm10 10l.94 2.06.94-2.06 2.06-.94-2.06-.94-.94-2.06-.94 2.06-2.06.94z\"/><path d=\"M17.41 7.96l-1.37-1.37c-.4-.4-.92-.59-1.43-.59-.52 0-1.04.2-1.43.59L10.3 9.45l-7.72 7.72c-.78.78-.78 2.05 0 2.83L4 21.41c.39.39.9.59 1.41.59.51 0 1.02-.2 1.41-.59l7.78-7.78 2.81-2.81c.8-.78.8-2.07 0-2.86zM5.41 20L4 18.59l7.72-7.72 1.47 1.35L5.41 20z\"/>\n",
              "  </svg>\n",
              "      </button>\n",
              "      \n",
              "  <style>\n",
              "    .colab-df-container {\n",
              "      display:flex;\n",
              "      flex-wrap:wrap;\n",
              "      gap: 12px;\n",
              "    }\n",
              "\n",
              "    .colab-df-convert {\n",
              "      background-color: #E8F0FE;\n",
              "      border: none;\n",
              "      border-radius: 50%;\n",
              "      cursor: pointer;\n",
              "      display: none;\n",
              "      fill: #1967D2;\n",
              "      height: 32px;\n",
              "      padding: 0 0 0 0;\n",
              "      width: 32px;\n",
              "    }\n",
              "\n",
              "    .colab-df-convert:hover {\n",
              "      background-color: #E2EBFA;\n",
              "      box-shadow: 0px 1px 2px rgba(60, 64, 67, 0.3), 0px 1px 3px 1px rgba(60, 64, 67, 0.15);\n",
              "      fill: #174EA6;\n",
              "    }\n",
              "\n",
              "    [theme=dark] .colab-df-convert {\n",
              "      background-color: #3B4455;\n",
              "      fill: #D2E3FC;\n",
              "    }\n",
              "\n",
              "    [theme=dark] .colab-df-convert:hover {\n",
              "      background-color: #434B5C;\n",
              "      box-shadow: 0px 1px 3px 1px rgba(0, 0, 0, 0.15);\n",
              "      filter: drop-shadow(0px 1px 2px rgba(0, 0, 0, 0.3));\n",
              "      fill: #FFFFFF;\n",
              "    }\n",
              "  </style>\n",
              "\n",
              "      <script>\n",
              "        const buttonEl =\n",
              "          document.querySelector('#df-709e92d9-21f9-4d6a-a27a-aa1d442ca0bc button.colab-df-convert');\n",
              "        buttonEl.style.display =\n",
              "          google.colab.kernel.accessAllowed ? 'block' : 'none';\n",
              "\n",
              "        async function convertToInteractive(key) {\n",
              "          const element = document.querySelector('#df-709e92d9-21f9-4d6a-a27a-aa1d442ca0bc');\n",
              "          const dataTable =\n",
              "            await google.colab.kernel.invokeFunction('convertToInteractive',\n",
              "                                                     [key], {});\n",
              "          if (!dataTable) return;\n",
              "\n",
              "          const docLinkHtml = 'Like what you see? Visit the ' +\n",
              "            '<a target=\"_blank\" href=https://colab.research.google.com/notebooks/data_table.ipynb>data table notebook</a>'\n",
              "            + ' to learn more about interactive tables.';\n",
              "          element.innerHTML = '';\n",
              "          dataTable['output_type'] = 'display_data';\n",
              "          await google.colab.output.renderOutput(dataTable, element);\n",
              "          const docLink = document.createElement('div');\n",
              "          docLink.innerHTML = docLinkHtml;\n",
              "          element.appendChild(docLink);\n",
              "        }\n",
              "      </script>\n",
              "    </div>\n",
              "  </div>\n",
              "  "
            ]
          },
          "metadata": {},
          "execution_count": 8
        }
      ]
    },
    {
      "cell_type": "markdown",
      "source": [
        "### Model Development\n",
        "\n",
        "- Model. math equation used to predict a value given one or more values.\n",
        "- Important to have RELEVANT infomation"
      ],
      "metadata": {
        "id": "qX1YD2XF0P3e"
      }
    },
    {
      "cell_type": "markdown",
      "source": [
        "### Linear Regression and Multiple Linear Regression\n",
        "\n",
        "- Simple Linear Regresision-one independent varaible to make a prediction\n",
        "- Multiple Linear Regresision-more than one independent varaible to make a prediction\n",
        "\n",
        "FOR SIMPLE LINEAR REGRESION\n",
        "\n",
        "> Independent variable (predictor) - x\n",
        "\n",
        "> Dependente variable (target) - y\n",
        "\n",
        "> b0=intercept\n",
        "\n",
        "> b1=slop\n",
        "\n",
        "y=b0 +b1x\n",
        "\n"
      ],
      "metadata": {
        "id": "TglFK6SW0Qcl"
      }
    },
    {
      "cell_type": "code",
      "source": [
        "# Create the model object\n",
        "lm1=LinearRegression()\n",
        "\n",
        "# Extract pridictor and target\n",
        "x=df[[\"highway-mpg\"]]\n",
        "y=df[[\"price\"]]\n",
        "\n",
        "# Train the model to get b0 and b1\n",
        "lm1.fit(x,y)"
      ],
      "metadata": {
        "id": "p0AJ63QU1Eug",
        "colab": {
          "base_uri": "https://localhost:8080/"
        },
        "outputId": "6f46080c-1953-4898-e761-0f9b145f5d3e"
      },
      "execution_count": 9,
      "outputs": [
        {
          "output_type": "execute_result",
          "data": {
            "text/plain": [
              "LinearRegression()"
            ]
          },
          "metadata": {},
          "execution_count": 9
        }
      ]
    },
    {
      "cell_type": "code",
      "source": [
        "# Make prediction\n",
        "yhat1=lm1.predict(x)"
      ],
      "metadata": {
        "id": "MCjIRGUX-fq3"
      },
      "execution_count": 10,
      "outputs": []
    },
    {
      "cell_type": "code",
      "source": [
        "# View the intercept b0\n",
        "lm1.intercept_"
      ],
      "metadata": {
        "colab": {
          "base_uri": "https://localhost:8080/"
        },
        "id": "kO9FfPQA-ft6",
        "outputId": "088d4556-a4d2-4518-c1bf-18e2c5ed245f"
      },
      "execution_count": 11,
      "outputs": [
        {
          "output_type": "execute_result",
          "data": {
            "text/plain": [
              "array([38423.30585816])"
            ]
          },
          "metadata": {},
          "execution_count": 11
        }
      ]
    },
    {
      "cell_type": "code",
      "source": [
        "# View the slope b1\n",
        "lm1.coef_"
      ],
      "metadata": {
        "colab": {
          "base_uri": "https://localhost:8080/"
        },
        "id": "2TCBv3-U-fwj",
        "outputId": "ab54df65-c913-4123-b83e-a491cad248dc"
      },
      "execution_count": 12,
      "outputs": [
        {
          "output_type": "execute_result",
          "data": {
            "text/plain": [
              "array([[-821.73337832]])"
            ]
          },
          "metadata": {},
          "execution_count": 12
        }
      ]
    },
    {
      "cell_type": "markdown",
      "source": [
        "The Relationship between Price and Highway MPG is given by \n",
        "\n",
        "> Price = 38423.31 - 831.73 * highway-mpg"
      ],
      "metadata": {
        "id": "qJjUUHu--QKT"
      }
    },
    {
      "cell_type": "markdown",
      "source": [
        "FOR MULTIPLE LINEAR REGRESION\n",
        "\n",
        "> Independent variables (predictors) - x1, x2, ... , xn\n",
        "\n",
        "> Dependente variable (target) - y\n",
        "\n",
        "> b0=intercept\n",
        "\n",
        "> b1, b2, ..., bn=coeficients for x1, x2, ... , xn\n",
        "\n",
        "y=b0 +b1x1 + b2x2 + ... + bnxn"
      ],
      "metadata": {
        "id": "arzll3Ym_Ms1"
      }
    },
    {
      "cell_type": "code",
      "source": [
        "# Extract pridictors\n",
        "X=df[[\"horsepower\",\"curb-weight\",\"engine-size\",\"highway-mpg\"]]\n",
        "\n",
        "# Create the model object\n",
        "lm2=LinearRegression()\n",
        "\n",
        "# Train the model\n",
        "lm2.fit(X, y)\n",
        "\n",
        "# Make prediction\n",
        "yhat2=lm2.predict(X)"
      ],
      "metadata": {
        "id": "ws6H5MPkALUG"
      },
      "execution_count": 13,
      "outputs": []
    },
    {
      "cell_type": "code",
      "source": [
        "# View the intercept b0\n",
        "lm2.intercept_"
      ],
      "metadata": {
        "colab": {
          "base_uri": "https://localhost:8080/"
        },
        "id": "ISAUhr3hA72G",
        "outputId": "97acaf36-d036-4c92-adc0-5b3a379037ce"
      },
      "execution_count": 14,
      "outputs": [
        {
          "output_type": "execute_result",
          "data": {
            "text/plain": [
              "array([-15824.03820823])"
            ]
          },
          "metadata": {},
          "execution_count": 14
        }
      ]
    },
    {
      "cell_type": "code",
      "source": [
        "# View the slope b1\n",
        "lm2.coef_"
      ],
      "metadata": {
        "colab": {
          "base_uri": "https://localhost:8080/"
        },
        "id": "AXtJ1xylA74h",
        "outputId": "c3cf6988-50ea-4fd4-941f-706457bc89ae"
      },
      "execution_count": 15,
      "outputs": [
        {
          "output_type": "execute_result",
          "data": {
            "text/plain": [
              "array([[53.61042729,  4.70886444, 81.47225667, 36.39637823]])"
            ]
          },
          "metadata": {},
          "execution_count": 15
        }
      ]
    },
    {
      "cell_type": "markdown",
      "source": [
        "The Relationship between Price and the predictors is given by\n",
        "\n",
        "> Price = 15806.62 + 53.50xhorsepower + 4.71xweight + 81.53xengine-size + 36.06xhighway-mpg\n"
      ],
      "metadata": {
        "id": "jTQrlx3eA_oc"
      }
    },
    {
      "cell_type": "markdown",
      "source": [
        "### Model Evaluation using Visualization"
      ],
      "metadata": {
        "id": "J0wMJK6G0Qfa"
      }
    },
    {
      "cell_type": "code",
      "source": [
        "# Regression plot\n",
        "sns. regplot(x=\"highway-mpg\", y=\"price\", data=df)\n",
        "plt.ylim(0,)"
      ],
      "metadata": {
        "id": "ySySIDnM1Ft7",
        "colab": {
          "base_uri": "https://localhost:8080/",
          "height": 296
        },
        "outputId": "06d4438f-56d2-4527-cfb4-93dad2a09ff9"
      },
      "execution_count": 16,
      "outputs": [
        {
          "output_type": "execute_result",
          "data": {
            "text/plain": [
              "(0.0, 48176.91097022766)"
            ]
          },
          "metadata": {},
          "execution_count": 16
        },
        {
          "output_type": "display_data",
          "data": {
            "text/plain": [
              "<Figure size 432x288 with 1 Axes>"
            ],
            "image/png": "[encoded data removed]"
          },
          "metadata": {
            "needs_background": "light"
          }
        }
      ]
    },
    {
      "cell_type": "code",
      "source": [
        "# Residual plot\n",
        "\n",
        "sns.residplot(x=\"highway-mpg\", y=\"price\", data=df)\n",
        "plt.show()"
      ],
      "metadata": {
        "colab": {
          "base_uri": "https://localhost:8080/",
          "height": 279
        },
        "id": "lYOiPnk_CPqO",
        "outputId": "e480f211-4a9b-4e79-ce76-1eb2f0a2f8ae"
      },
      "execution_count": 17,
      "outputs": [
        {
          "output_type": "display_data",
          "data": {
            "text/plain": [
              "<Figure size 432x288 with 1 Axes>"
            ],
            "image/png": "[encoded data removed]"
          },
          "metadata": {
            "needs_background": "light"
          }
        }
      ]
    },
    {
      "cell_type": "code",
      "source": [
        "# Residual plot (poniendo directo los subpltos)\n",
        "\n",
        "sns.residplot(x=x, y=y)\n",
        "plt.show()"
      ],
      "metadata": {
        "colab": {
          "base_uri": "https://localhost:8080/",
          "height": 279
        },
        "id": "pugFgoloDurk",
        "outputId": "a8fd5700-2306-46f8-eb7c-011129576687"
      },
      "execution_count": 18,
      "outputs": [
        {
          "output_type": "display_data",
          "data": {
            "text/plain": [
              "<Figure size 432x288 with 1 Axes>"
            ],
            "image/png": "[encoded data removed]"
          },
          "metadata": {
            "needs_background": "light"
          }
        }
      ]
    },
    {
      "cell_type": "markdown",
      "source": [
        "- Pueden ayudar a determinar si es apropiado un modelo lineal y si la varianza es constante.\n",
        "- En este caso no hay un patron que sugiera una relación diferente a lineal. \n",
        "- Además se observa que los datos se mantiene en una franja entre -1000 y 15000, por tanto la varianza es constante."
      ],
      "metadata": {
        "id": "eLtBTwKuDNwb"
      }
    },
    {
      "cell_type": "code",
      "source": [
        "# Distribution plots (FUNCTION WILL BE REMOVED)\n",
        "plt.figure(figsize=(12,10))\n",
        "\n",
        "ax1=sns.distplot(df[\"price\"],hist=False,color=\"r\",label=\"Actual Values\")\n",
        "sns.distplot(yhat1,hist=False,color=\"b\",label=\"Fitted Values\",ax=ax1);\n",
        "\n",
        "plt.title('Actual vs Fitted Values for Price')\n",
        "plt.xlabel('Price (in dollars)')\n",
        "plt.ylabel('Proportion of Cars')\n",
        "\n",
        "plt.show()\n",
        "plt.close()"
      ],
      "metadata": {
        "colab": {
          "base_uri": "https://localhost:8080/",
          "height": 710
        },
        "id": "jOeRK0quEm4g",
        "outputId": "ed7d4fbf-e860-4ca3-8611-e7f69cb82089"
      },
      "execution_count": 19,
      "outputs": [
        {
          "output_type": "stream",
          "name": "stderr",
          "text": [
            "/usr/local/lib/python3.7/dist-packages/seaborn/distributions.py:2619: FutureWarning: `distplot` is a deprecated function and will be removed in a future version. Please adapt your code to use either `displot` (a figure-level function with similar flexibility) or `kdeplot` (an axes-level function for kernel density plots).\n",
            "  warnings.warn(msg, FutureWarning)\n",
            "/usr/local/lib/python3.7/dist-packages/seaborn/distributions.py:2619: FutureWarning: `distplot` is a deprecated function and will be removed in a future version. Please adapt your code to use either `displot` (a figure-level function with similar flexibility) or `kdeplot` (an axes-level function for kernel density plots).\n",
            "  warnings.warn(msg, FutureWarning)\n"
          ]
        },
        {
          "output_type": "display_data",
          "data": {
            "text/plain": [
              "<Figure size 864x720 with 1 Axes>"
            ],
            "image/png": "[encoded data removed]"
          },
          "metadata": {
            "needs_background": "light"
          }
        }
      ]
    },
    {
      "cell_type": "code",
      "source": [
        "# Distribution plots (NEW FUNCTION)\n",
        "ax1=sns.kdeplot(df[\"price\"],multiple=\"layer\",color=\"r\",label=\"Actual Values\")\n",
        "sns.kdeplot(yhat1.reshape(-1),multiple=\"layer\",color=\"b\",label=\"Fitted Values\",ax=ax1)\n",
        "\n",
        "plt.title('Actual vs Fitted Values for Price')\n",
        "plt.xlabel('Price (in dollars)')\n",
        "plt.ylabel('Proportion of Cars');"
      ],
      "metadata": {
        "colab": {
          "base_uri": "https://localhost:8080/",
          "height": 295
        },
        "id": "0x0kwl7mGGZr",
        "outputId": "6a0d4618-a555-43b6-b28e-0eda2e0b018c"
      },
      "execution_count": 20,
      "outputs": [
        {
          "output_type": "display_data",
          "data": {
            "text/plain": [
              "<Figure size 432x288 with 1 Axes>"
            ],
            "image/png": "[encoded data removed]"
          },
          "metadata": {
            "needs_background": "light"
          }
        }
      ]
    },
    {
      "cell_type": "markdown",
      "source": [
        "- Vemos que entre en 15000 y 25000 le cuesta mas al modelo predecir adecuadamente"
      ],
      "metadata": {
        "id": "QDPXU6YnIisd"
      }
    },
    {
      "cell_type": "markdown",
      "source": [
        "### Polynomial Regression and Pipelines\n",
        "\n",
        "- pipiline to simplify your code\n",
        "- polynomial  regression is beneficial to model curvilineal relationship"
      ],
      "metadata": {
        "id": "iTJ1qqg70QjK"
      }
    },
    {
      "cell_type": "code",
      "source": [
        "def PlotPolly(model, independent_variable, dependent_variabble, Name):\n",
        "    x_new = np.linspace(15, 55, 100)\n",
        "    y_new = model(x_new)\n",
        "\n",
        "    plt.plot(independent_variable, dependent_variabble, '.', x_new, y_new, '-')\n",
        "    plt.title('Polynomial Fit with Matplotlib for Price ~ Length')\n",
        "    ax = plt.gca()\n",
        "    ax.set_facecolor((0.898, 0.898, 0.898))\n",
        "    fig = plt.gcf()\n",
        "    plt.xlabel(Name)\n",
        "    plt.ylabel('Price of Cars')\n",
        "\n",
        "    plt.show()\n",
        "    plt.close()"
      ],
      "metadata": {
        "id": "5ub4Ysg61GP1"
      },
      "execution_count": 21,
      "outputs": []
    },
    {
      "cell_type": "code",
      "source": [
        "# Let's get the variables:\n",
        "x = df['highway-mpg']\n",
        "y = df['price']"
      ],
      "metadata": {
        "id": "4rmmKJCCS-1e"
      },
      "execution_count": 22,
      "outputs": []
    },
    {
      "cell_type": "code",
      "source": [
        "# Here we use a polynomial of the 3rd order (cubic) \n",
        "f = np.polyfit(x, y, 3)\n",
        "p = np.poly1d(f)\n",
        "print(p)"
      ],
      "metadata": {
        "colab": {
          "base_uri": "https://localhost:8080/"
        },
        "id": "xn_z6Xt7S-8a",
        "outputId": "d0b1ec75-67e9-4326-e232-faeccf6e338f"
      },
      "execution_count": 23,
      "outputs": [
        {
          "output_type": "stream",
          "name": "stdout",
          "text": [
            "        3         2\n",
            "-1.557 x + 204.8 x - 8965 x + 1.379e+05\n"
          ]
        }
      ]
    },
    {
      "cell_type": "code",
      "source": [
        "# Let's plot the function:\n",
        "PlotPolly(p, x, y, 'highway-mpg')"
      ],
      "metadata": {
        "colab": {
          "base_uri": "https://localhost:8080/",
          "height": 295
        },
        "id": "jqw0uQLpS_CI",
        "outputId": "c5acf104-49b2-49c2-e326-d5c31f72631f"
      },
      "execution_count": 24,
      "outputs": [
        {
          "output_type": "display_data",
          "data": {
            "text/plain": [
              "<Figure size 432x288 with 1 Axes>"
            ],
            "image/png": "[encoded data removed]"
          },
          "metadata": {
            "needs_background": "light"
          }
        }
      ]
    },
    {
      "cell_type": "code",
      "source": [
        "np.polyfit(x, y, 3)"
      ],
      "metadata": {
        "id": "gtnWV6f5LUl1",
        "colab": {
          "base_uri": "https://localhost:8080/"
        },
        "outputId": "86f93fee-0172-46fd-9cf0-7b48c3505f43"
      },
      "execution_count": 25,
      "outputs": [
        {
          "output_type": "execute_result",
          "data": {
            "text/plain": [
              "array([-1.55663829e+00,  2.04754306e+02, -8.96543312e+03,  1.37923594e+05])"
            ]
          },
          "metadata": {},
          "execution_count": 25
        }
      ]
    },
    {
      "cell_type": "markdown",
      "source": [
        "We can already see from plotting that this polynomial model performs better than the linear model. This is because the generated polynomial function \"hits\" more of the data points"
      ],
      "metadata": {
        "id": "HC7wkIvgTVVV"
      }
    },
    {
      "cell_type": "code",
      "source": [
        "# We create a PolynomialFeatures object of degree 2:\n",
        "pr=PolynomialFeatures(degree=2)\n",
        "pr"
      ],
      "metadata": {
        "colab": {
          "base_uri": "https://localhost:8080/"
        },
        "id": "kxbSsUjWR1MN",
        "outputId": "9905d373-f732-424b-ad75-507100c300b8"
      },
      "execution_count": 26,
      "outputs": [
        {
          "output_type": "execute_result",
          "data": {
            "text/plain": [
              "PolynomialFeatures()"
            ]
          },
          "metadata": {},
          "execution_count": 26
        }
      ]
    },
    {
      "cell_type": "code",
      "source": [
        "Z = df[['horsepower', 'curb-weight', 'engine-size', 'highway-mpg']]\n",
        "\n",
        "Z_pr=pr.fit_transform(Z)"
      ],
      "metadata": {
        "id": "9Zar7FF6T444"
      },
      "execution_count": 27,
      "outputs": []
    },
    {
      "cell_type": "code",
      "source": [
        "# In the original data, there are 201 samples and 4 features\n",
        "Z.shape"
      ],
      "metadata": {
        "colab": {
          "base_uri": "https://localhost:8080/"
        },
        "id": "3NBS3OHaL0VV",
        "outputId": "21ba3f28-cbc4-4f43-c442-726c904ba3e4"
      },
      "execution_count": 28,
      "outputs": [
        {
          "output_type": "execute_result",
          "data": {
            "text/plain": [
              "(201, 4)"
            ]
          },
          "metadata": {},
          "execution_count": 28
        }
      ]
    },
    {
      "cell_type": "code",
      "source": [
        "# After the transformation, there are 201 samples and 15 features.\n",
        "Z_pr.shape"
      ],
      "metadata": {
        "colab": {
          "base_uri": "https://localhost:8080/"
        },
        "id": "0NYN9m6iMJ_m",
        "outputId": "52c8b19e-882f-4ec9-b1a8-8a2f667d2da4"
      },
      "execution_count": 29,
      "outputs": [
        {
          "output_type": "execute_result",
          "data": {
            "text/plain": [
              "(201, 15)"
            ]
          },
          "metadata": {},
          "execution_count": 29
        }
      ]
    },
    {
      "cell_type": "markdown",
      "source": [
        "Pipline.\n",
        "\n",
        "Steps: 1) Normalization -> Polynomial transformation -> Linear Regression"
      ],
      "metadata": {
        "id": "KAsJcH6eMl1D"
      }
    },
    {
      "cell_type": "code",
      "source": [
        "# Input for pipeline\n",
        "Input=[('scale',StandardScaler()), ('polynomial', PolynomialFeatures(include_bias=False)), ('model',LinearRegression())]\n",
        "\n",
        "# Pipeline objet\n",
        "pipe=Pipeline(Input)"
      ],
      "metadata": {
        "id": "-QN2DEU1MKCR"
      },
      "execution_count": 30,
      "outputs": []
    },
    {
      "cell_type": "code",
      "source": [
        "# Entrena el modelo\n",
        "Z = Z.astype(float) #Convierte variables a tipo float\n",
        "pipe.fit(Z,y)"
      ],
      "metadata": {
        "colab": {
          "base_uri": "https://localhost:8080/"
        },
        "id": "kSqZJjhaUThO",
        "outputId": "d2c0782c-0692-4847-fe93-28a12ef1b783"
      },
      "execution_count": 31,
      "outputs": [
        {
          "output_type": "execute_result",
          "data": {
            "text/plain": [
              "Pipeline(steps=[('scale', StandardScaler()),\n",
              "                ('polynomial', PolynomialFeatures(include_bias=False)),\n",
              "                ('model', LinearRegression())])"
            ]
          },
          "metadata": {},
          "execution_count": 31
        }
      ]
    },
    {
      "cell_type": "code",
      "source": [
        "# Hace predicción\n",
        "ypipe=pipe.predict(Z)\n",
        "ypipe[0:4]"
      ],
      "metadata": {
        "id": "lb-asmN0MKHA",
        "colab": {
          "base_uri": "https://localhost:8080/"
        },
        "outputId": "1d233182-b1bd-4a06-ea65-acf2ffc80752"
      },
      "execution_count": 32,
      "outputs": [
        {
          "output_type": "execute_result",
          "data": {
            "text/plain": [
              "array([13103.37745014, 13103.37745014, 18228.50045451, 10392.95563313])"
            ]
          },
          "metadata": {},
          "execution_count": 32
        }
      ]
    },
    {
      "cell_type": "markdown",
      "source": [
        "### Measures for In-Sample Evaluation\n",
        "\n",
        "MSE - mean square error\n",
        "\n",
        "R^2 value - Coeficiente de determinación"
      ],
      "metadata": {
        "id": "aPOvP0-g086v"
      }
    },
    {
      "cell_type": "markdown",
      "source": [
        "MODELO REGRESIÓN LINEAL SIMPLE"
      ],
      "metadata": {
        "id": "hLK-qGkOeqDN"
      }
    },
    {
      "cell_type": "code",
      "source": [
        "# Definimos datos\n",
        "X = df[['highway-mpg']]\n",
        "Y = df['price']\n",
        "\n",
        "# Definimos objeto de regresion\n",
        "lm = LinearRegression()\n",
        "\n",
        "#highway_mpg_fit\n",
        "lm.fit(X, Y)\n",
        "# Find the R^2\n",
        "print('The R-square is: ', lm.score(X, Y))"
      ],
      "metadata": {
        "colab": {
          "base_uri": "https://localhost:8080/"
        },
        "id": "OSVpjqC9d0Y2",
        "outputId": "c8ab89fa-3e62-4dd5-9bcb-5360269e4a0a"
      },
      "execution_count": 33,
      "outputs": [
        {
          "output_type": "stream",
          "name": "stdout",
          "text": [
            "The R-square is:  0.4965911884339176\n"
          ]
        }
      ]
    },
    {
      "cell_type": "code",
      "source": [
        "# We can predict the output i.e., \"yhat\" using the predict method, where X is the input variable:\n",
        "Yhat=lm.predict(X)\n",
        "print('The output of the first four predicted value is: ', Yhat[0:4])"
      ],
      "metadata": {
        "colab": {
          "base_uri": "https://localhost:8080/"
        },
        "id": "HhMl9lImefFU",
        "outputId": "0c7ef0d8-f3fc-41c3-c68d-6d5d72e0c3b6"
      },
      "execution_count": 34,
      "outputs": [
        {
          "output_type": "stream",
          "name": "stdout",
          "text": [
            "The output of the first four predicted value is:  [16236.50464347 16236.50464347 17058.23802179 13771.3045085 ]\n"
          ]
        }
      ]
    },
    {
      "cell_type": "code",
      "source": [
        "# We can compare the predicted results with the actual results\n",
        "mse = mean_squared_error(df['price'], Yhat)\n",
        "print('The mean square error of price and predicted value is: ', mse)"
      ],
      "metadata": {
        "colab": {
          "base_uri": "https://localhost:8080/"
        },
        "id": "yiaGT_wxembW",
        "outputId": "d43f1472-d5e9-4abe-9df3-118a930a9d3e"
      },
      "execution_count": 35,
      "outputs": [
        {
          "output_type": "stream",
          "name": "stdout",
          "text": [
            "The mean square error of price and predicted value is:  31635042.944639888\n"
          ]
        }
      ]
    },
    {
      "cell_type": "markdown",
      "source": [
        "MODELO REGRESIÓN LINEAL MULTIPLE"
      ],
      "metadata": {
        "id": "CWuAp9S5etCR"
      }
    },
    {
      "cell_type": "code",
      "source": [
        "# Definimos datos\n",
        "Z = df[['horsepower', 'curb-weight', 'engine-size', 'highway-mpg']]\n",
        "\n",
        "# fit the model \n",
        "lm.fit(Z, df['price'])\n",
        "# Find the R^2\n",
        "print('The R-square is: ', lm.score(Z, df['price']))"
      ],
      "metadata": {
        "colab": {
          "base_uri": "https://localhost:8080/"
        },
        "id": "8jB3VHeEfOzO",
        "outputId": "f8bbf5fb-6bd4-4129-9cff-09e232f304cb"
      },
      "execution_count": 36,
      "outputs": [
        {
          "output_type": "stream",
          "name": "stdout",
          "text": [
            "The R-square is:  0.8094130135602673\n"
          ]
        }
      ]
    },
    {
      "cell_type": "code",
      "source": [
        "# We produce a prediction:\n",
        "Y_predict_multifit = lm.predict(Z)"
      ],
      "metadata": {
        "id": "nnKf5wetemf1"
      },
      "execution_count": 37,
      "outputs": []
    },
    {
      "cell_type": "code",
      "source": [
        "# We compare the predicted results with the actual results:\n",
        "print('The mean square error of price and predicted value using multifit is: ', \\\n",
        "      mean_squared_error(df['price'], Y_predict_multifit))"
      ],
      "metadata": {
        "colab": {
          "base_uri": "https://localhost:8080/"
        },
        "id": "TefpDIeGe8Lj",
        "outputId": "81145555-dcd9-4cd7-d2c7-74b1db941528"
      },
      "execution_count": 38,
      "outputs": [
        {
          "output_type": "stream",
          "name": "stdout",
          "text": [
            "The mean square error of price and predicted value using multifit is:  11976801.681229586\n"
          ]
        }
      ]
    },
    {
      "cell_type": "markdown",
      "source": [
        "MODELO POLINOMIAL"
      ],
      "metadata": {
        "id": "12_TuAc7fI99"
      }
    },
    {
      "cell_type": "code",
      "source": [
        "# We apply the function to get the value of R^2:\n",
        "r_squared = r2_score(y, p(x))\n",
        "print('The R-square value is: ', r_squared)"
      ],
      "metadata": {
        "colab": {
          "base_uri": "https://localhost:8080/"
        },
        "id": "d5pK6cryfLJv",
        "outputId": "77c33c59-6d21-494b-b98e-b8d4c1eb74e2"
      },
      "execution_count": 39,
      "outputs": [
        {
          "output_type": "stream",
          "name": "stdout",
          "text": [
            "The R-square value is:  0.674194666390652\n"
          ]
        }
      ]
    },
    {
      "cell_type": "code",
      "source": [
        "# We can also calculate the MSE:\n",
        "mean_squared_error(df['price'], p(x))"
      ],
      "metadata": {
        "colab": {
          "base_uri": "https://localhost:8080/"
        },
        "id": "AhJXoulPfLMn",
        "outputId": "627dc60a-225b-4dbf-a6b7-a1a21138d92b"
      },
      "execution_count": 40,
      "outputs": [
        {
          "output_type": "execute_result",
          "data": {
            "text/plain": [
              "20474146.426361218"
            ]
          },
          "metadata": {},
          "execution_count": 40
        }
      ]
    },
    {
      "cell_type": "markdown",
      "source": [
        "### Prediction and Decision Making"
      ],
      "metadata": {
        "id": "ysyS1ne91AAJ"
      }
    },
    {
      "cell_type": "code",
      "source": [
        "# Create a new input:\n",
        "new_input=np.arange(1, 100, 1).reshape(-1, 1)"
      ],
      "metadata": {
        "id": "7GPWc24L0P-h"
      },
      "execution_count": 41,
      "outputs": []
    },
    {
      "cell_type": "code",
      "source": [
        "#Fit the model:\n",
        "lm.fit(X, Y)\n",
        "lm"
      ],
      "metadata": {
        "colab": {
          "base_uri": "https://localhost:8080/"
        },
        "id": "cgGZp3P6fxNi",
        "outputId": "ad67777f-2956-4c10-b2ed-b2c0fc9543ca"
      },
      "execution_count": 42,
      "outputs": [
        {
          "output_type": "execute_result",
          "data": {
            "text/plain": [
              "LinearRegression()"
            ]
          },
          "metadata": {},
          "execution_count": 42
        }
      ]
    },
    {
      "cell_type": "code",
      "source": [
        "#Produce a prediction:\n",
        "yhat=lm.predict(new_input)\n",
        "yhat[0:5]"
      ],
      "metadata": {
        "colab": {
          "base_uri": "https://localhost:8080/"
        },
        "id": "C8-qPWzSfxP0",
        "outputId": "ba399a0c-4e7f-495b-efaa-2939a44ed448"
      },
      "execution_count": 43,
      "outputs": [
        {
          "output_type": "stream",
          "name": "stderr",
          "text": [
            "/usr/local/lib/python3.7/dist-packages/sklearn/base.py:451: UserWarning: X does not have valid feature names, but LinearRegression was fitted with feature names\n",
            "  \"X does not have valid feature names, but\"\n"
          ]
        },
        {
          "output_type": "execute_result",
          "data": {
            "text/plain": [
              "array([37601.57247984, 36779.83910151, 35958.10572319, 35136.37234487,\n",
              "       34314.63896655])"
            ]
          },
          "metadata": {},
          "execution_count": 43
        }
      ]
    },
    {
      "cell_type": "code",
      "source": [
        "#We can plot the data:\n",
        "plt.plot(new_input, yhat)\n",
        "plt.show()"
      ],
      "metadata": {
        "colab": {
          "base_uri": "https://localhost:8080/",
          "height": 265
        },
        "id": "2Tau77oQfxSc",
        "outputId": "6e55851d-75bf-4a92-9ad6-c64a3c78c272"
      },
      "execution_count": 44,
      "outputs": [
        {
          "output_type": "display_data",
          "data": {
            "text/plain": [
              "<Figure size 432x288 with 1 Axes>"
            ],
            "image/png": "[encoded data removed]"
          },
          "metadata": {
            "needs_background": "light"
          }
        }
      ]
    },
    {
      "cell_type": "markdown",
      "source": [
        "<h3>Decision Making: Determining a Good Model Fit</h3>\n"
      ],
      "metadata": {
        "id": "sTabzFBLgHIl"
      }
    },
    {
      "cell_type": "markdown",
      "source": [
        "<p>Y ahora, ¿cómo terminamos si el modelo tiene buen ajuste?\n",
        "<ul>\n",
        "    <li><i>Cómo es un buen valor R-squared?</i></li>\n",
        "</ul>\n",
        "</p>\n",
        "\n",
        "<p>Cuando comparas modelos, mientras mayor sea mejor</b>.\n",
        "<ul>\n",
        "    <li><i>Cómo es un buen MSE?</i></li>\n",
        "</ul>\n",
        "</p>\n",
        "\n",
        "<p>Cuando comparas modelos, el mejor sera el que tenga el menor MSE.</p>\n",
        "\n",
        "<h4>Comparemos los modelos.</h4>\n",
        "<p>Regresión Lineal Simple: Con Highway-mpg como variable predictora de Price.\n",
        "<ul>\n",
        "    <li>R-squared: 0.49659118843391759</li>\n",
        "    <li>MSE: 3.16 x10^7</li>\n",
        "</ul>\n",
        "</p>\n",
        "\n",
        "<p>Regresión Lineal Multiple: Con Horsepower, Curb-weight, Engine-size, y Highway-mpg  como variables predictoras de Price.\n",
        "<ul>\n",
        "    <li>R-squared: 0.80896354913783497</li>\n",
        "    <li>MSE: 1.2 x10^7</li>\n",
        "</ul>\n",
        "</p>\n",
        "\n",
        "<p>Modelo Polinomial : Con Highway-mpg como variable predictora de Price.\n",
        "<ul>\n",
        "    <li>R-squared: 0.6741946663906514</li>\n",
        "    <li>MSE: 2.05 x 10^7</li>\n",
        "</ul>\n",
        "</p>\n"
      ],
      "metadata": {
        "id": "VVRBdyjWgHMM"
      }
    },
    {
      "cell_type": "markdown",
      "source": [
        "<h3>Regresión Lineal Simple (RLS) vs. Modelo Polinomial (MP)</h3>\n"
      ],
      "metadata": {
        "id": "Ologb6KWgJCt"
      }
    },
    {
      "cell_type": "markdown",
      "source": [
        "<ul>\n",
        "    <li><b>MSE</b>: podemos ver que el MP redujo el MSE, ya que este MSE es más pequeño que el del RLS.</li>\n",
        "    <li><b>R-cuadrado</b>: el R-cuadrado para MP es mayor que el R-cuadrado para RLS, por lo que MP también aumentó bastante el R-cuadrado.</ li>\n",
        "</ul>\n",
        "<p>Dado que el ajuste polinomial resultó en un MSE más bajo y un R-cuadrado más alto, podemos concluir que este fue un modelo de mejor ajuste que la regresión lineal simple para predecir el \"Price\" con \"Highway-mpg\" como variable de predicción. </p>"
      ],
      "metadata": {
        "id": "jHwSoY21gJFl"
      }
    },
    {
      "cell_type": "markdown",
      "source": [
        "<h3>Regresión Lineal Multiple (RLM) vs. Modelo Polinomial (MP)</h3>\n"
      ],
      "metadata": {
        "id": "kPgaF1qxgMpu"
      }
    },
    {
      "cell_type": "markdown",
      "source": [
        "<ul>\n",
        "    <li><b>MSE</b>: el MSE para el MLR es más pequeño que el MSE para el MP.</li>\n",
        "    <li><b>R-cuadrado</b>: el R-cuadrado para el MLR también es mucho mayor que para el MP.</li>\n",
        "</ul>"
      ],
      "metadata": {
        "id": "ORJvKSWFgOCF"
      }
    },
    {
      "cell_type": "markdown",
      "source": [
        "<h2>Conclusión</h2>\n"
      ],
      "metadata": {
        "id": "4g6xx8atgPgh"
      }
    },
    {
      "cell_type": "markdown",
      "source": [
        "<p>Al comparar estos tres modelos, concluimos que <b>el modelo MLR es el mejor modelo</b> para poder predecir el precio a partir de nuestro conjunto de datos. Este resultado tiene sentido ya que tenemos 27 variables en total y sabemos que más de una de esas variables son predictores potenciales del precio final del automóvil.</p>"
      ],
      "metadata": {
        "id": "DHUxAKQNgPjU"
      }
    },
    {
      "cell_type": "markdown",
      "source": [
        "### Lab"
      ],
      "metadata": {
        "id": "NjJcvtkdv679"
      }
    },
    {
      "cell_type": "code",
      "source": [
        "#Question #1 a):\n",
        "#Create a linear regression object called \"lm1\".\n",
        "\n",
        "lm1 = LinearRegression()\n",
        "lm1"
      ],
      "metadata": {
        "id": "sFv2qEuD0PGc",
        "colab": {
          "base_uri": "https://localhost:8080/"
        },
        "outputId": "58ca8b0a-f5fc-408e-ca34-3594842c8c1b"
      },
      "execution_count": 45,
      "outputs": [
        {
          "output_type": "execute_result",
          "data": {
            "text/plain": [
              "LinearRegression()"
            ]
          },
          "metadata": {},
          "execution_count": 45
        }
      ]
    },
    {
      "cell_type": "code",
      "source": [
        "# Question #1 b):\n",
        "# Train the model using \"engine-size\" as the independent variable and \"price\" as the dependent variable?\n",
        "\n",
        "lm1.fit(df[['engine-size']], df[['price']])\n",
        "lm1"
      ],
      "metadata": {
        "colab": {
          "base_uri": "https://localhost:8080/"
        },
        "id": "DI0vbSTjRTJR",
        "outputId": "05069861-20b3-4c3e-e4a7-8f859a3f28a9"
      },
      "execution_count": 46,
      "outputs": [
        {
          "output_type": "execute_result",
          "data": {
            "text/plain": [
              "LinearRegression()"
            ]
          },
          "metadata": {},
          "execution_count": 46
        }
      ]
    },
    {
      "cell_type": "code",
      "source": [
        "# Question #1 c):\n",
        "# Find the slope and intercept of the model.\n",
        "\n",
        "# Slope \n",
        "print(lm1.coef_)\n",
        "\n",
        "# Intercept\n",
        "print(lm1.intercept_)"
      ],
      "metadata": {
        "colab": {
          "base_uri": "https://localhost:8080/"
        },
        "id": "UT44_34eRTLi",
        "outputId": "7478d309-60c8-45b9-dc42-680a06489f55"
      },
      "execution_count": 47,
      "outputs": [
        {
          "output_type": "stream",
          "name": "stdout",
          "text": [
            "[[166.86001569]]\n",
            "[-7963.33890628]\n"
          ]
        }
      ]
    },
    {
      "cell_type": "code",
      "source": [
        "# Question #1 d):\n",
        "# What is the equation of the predicted line? You can use x and yhat or \"engine-size\" or \"price\".\n",
        "\n",
        "# using X and Y  \n",
        "Yhat=-7963.34 + 166.86*X\n",
        "\n",
        "Price=-7963.34 + 166.86*df['engine-size']"
      ],
      "metadata": {
        "id": "oGWiKzmvRTOa"
      },
      "execution_count": 48,
      "outputs": []
    },
    {
      "cell_type": "code",
      "source": [
        "# Question #2 a):\n",
        "# Create and train a Multiple Linear Regression model \"lm2\" where the response variable is \"price\", \n",
        "# and the predictor variable is \"normalized-losses\" and \"highway-mpg\".\n",
        "\n",
        "# Write your code below and press Shift+Enter to execute \n",
        "lm2 = LinearRegression()\n",
        "lm2.fit(df[['normalized-losses' , 'highway-mpg']],df['price'])"
      ],
      "metadata": {
        "colab": {
          "base_uri": "https://localhost:8080/"
        },
        "id": "BNiB2WljR1A-",
        "outputId": "00ebcc7d-910f-4784-f1a9-44dc4b324262"
      },
      "execution_count": 49,
      "outputs": [
        {
          "output_type": "execute_result",
          "data": {
            "text/plain": [
              "LinearRegression()"
            ]
          },
          "metadata": {},
          "execution_count": 49
        }
      ]
    },
    {
      "cell_type": "code",
      "source": [
        "# Question #2 b):\n",
        "# Find the coefficient of the model.\n",
        "\n",
        "# Write your code below and press Shift+Enter to execute \n",
        "lm2.coef_"
      ],
      "metadata": {
        "colab": {
          "base_uri": "https://localhost:8080/"
        },
        "id": "HTF4JtZgR1D8",
        "outputId": "7de34dc8-193b-4541-98b3-9ede618f4662"
      },
      "execution_count": 50,
      "outputs": [
        {
          "output_type": "execute_result",
          "data": {
            "text/plain": [
              "array([   1.49789586, -820.45434016])"
            ]
          },
          "metadata": {},
          "execution_count": 50
        }
      ]
    },
    {
      "cell_type": "code",
      "source": [
        "# Question #3:\n",
        "# Given the regression plots above, is \"peak-rpm\" or \"highway-mpg\" more strongly correlated with \"price\"? Use the method \".corr()\" to verify your answer.\n",
        "\n",
        "# Write your code below and press Shift+Enter to execute \n",
        "df[[\"peak-rpm\",\"highway-mpg\",\"price\"]].corr()"
      ],
      "metadata": {
        "colab": {
          "base_uri": "https://localhost:8080/",
          "height": 143
        },
        "id": "LkPJfNdsR1Gl",
        "outputId": "ca363b8a-7c81-444d-b6cc-c10f3460e5a9"
      },
      "execution_count": 51,
      "outputs": [
        {
          "output_type": "execute_result",
          "data": {
            "text/plain": [
              "             peak-rpm  highway-mpg     price\n",
              "peak-rpm     1.000000    -0.058605 -0.101542\n",
              "highway-mpg -0.058605     1.000000 -0.704692\n",
              "price       -0.101542    -0.704692  1.000000"
            ],
            "text/html": [
              "\n",
              "  <div id=\"df-d9ee75f8-a6b2-40d1-a384-a0d71bb6ccfd\">\n",
              "    <div class=\"colab-df-container\">\n",
              "      <div>\n",
              "<style scoped>\n",
              "    .dataframe tbody tr th:only-of-type {\n",
              "        vertical-align: middle;\n",
              "    }\n",
              "\n",
              "    .dataframe tbody tr th {\n",
              "        vertical-align: top;\n",
              "    }\n",
              "\n",
              "    .dataframe thead th {\n",
              "        text-align: right;\n",
              "    }\n",
              "</style>\n",
              "<table border=\"1\" class=\"dataframe\">\n",
              "  <thead>\n",
              "    <tr style=\"text-align: right;\">\n",
              "      <th></th>\n",
              "      <th>peak-rpm</th>\n",
              "      <th>highway-mpg</th>\n",
              "      <th>price</th>\n",
              "    </tr>\n",
              "  </thead>\n",
              "  <tbody>\n",
              "    <tr>\n",
              "      <th>peak-rpm</th>\n",
              "      <td>1.000000</td>\n",
              "      <td>-0.058605</td>\n",
              "      <td>-0.101542</td>\n",
              "    </tr>\n",
              "    <tr>\n",
              "      <th>highway-mpg</th>\n",
              "      <td>-0.058605</td>\n",
              "      <td>1.000000</td>\n",
              "      <td>-0.704692</td>\n",
              "    </tr>\n",
              "    <tr>\n",
              "      <th>price</th>\n",
              "      <td>-0.101542</td>\n",
              "      <td>-0.704692</td>\n",
              "      <td>1.000000</td>\n",
              "    </tr>\n",
              "  </tbody>\n",
              "</table>\n",
              "</div>\n",
              "      <button class=\"colab-df-convert\" onclick=\"convertToInteractive('df-d9ee75f8-a6b2-40d1-a384-a0d71bb6ccfd')\"\n",
              "              title=\"Convert this dataframe to an interactive table.\"\n",
              "              style=\"display:none;\">\n",
              "        \n",
              "  <svg xmlns=\"http://www.w3.org/2000/svg\" height=\"24px\"viewBox=\"0 0 24 24\"\n",
              "       width=\"24px\">\n",
              "    <path d=\"M0 0h24v24H0V0z\" fill=\"none\"/>\n",
              "    <path d=\"M18.56 5.44l.94 2.06.94-2.06 2.06-.94-2.06-.94-.94-2.06-.94 2.06-2.06.94zm-11 1L8.5 8.5l.94-2.06 2.06-.94-2.06-.94L8.5 2.5l-.94 2.06-2.06.94zm10 10l.94 2.06.94-2.06 2.06-.94-2.06-.94-.94-2.06-.94 2.06-2.06.94z\"/><path d=\"M17.41 7.96l-1.37-1.37c-.4-.4-.92-.59-1.43-.59-.52 0-1.04.2-1.43.59L10.3 9.45l-7.72 7.72c-.78.78-.78 2.05 0 2.83L4 21.41c.39.39.9.59 1.41.59.51 0 1.02-.2 1.41-.59l7.78-7.78 2.81-2.81c.8-.78.8-2.07 0-2.86zM5.41 20L4 18.59l7.72-7.72 1.47 1.35L5.41 20z\"/>\n",
              "  </svg>\n",
              "      </button>\n",
              "      \n",
              "  <style>\n",
              "    .colab-df-container {\n",
              "      display:flex;\n",
              "      flex-wrap:wrap;\n",
              "      gap: 12px;\n",
              "    }\n",
              "\n",
              "    .colab-df-convert {\n",
              "      background-color: #E8F0FE;\n",
              "      border: none;\n",
              "      border-radius: 50%;\n",
              "      cursor: pointer;\n",
              "      display: none;\n",
              "      fill: #1967D2;\n",
              "      height: 32px;\n",
              "      padding: 0 0 0 0;\n",
              "      width: 32px;\n",
              "    }\n",
              "\n",
              "    .colab-df-convert:hover {\n",
              "      background-color: #E2EBFA;\n",
              "      box-shadow: 0px 1px 2px rgba(60, 64, 67, 0.3), 0px 1px 3px 1px rgba(60, 64, 67, 0.15);\n",
              "      fill: #174EA6;\n",
              "    }\n",
              "\n",
              "    [theme=dark] .colab-df-convert {\n",
              "      background-color: #3B4455;\n",
              "      fill: #D2E3FC;\n",
              "    }\n",
              "\n",
              "    [theme=dark] .colab-df-convert:hover {\n",
              "      background-color: #434B5C;\n",
              "      box-shadow: 0px 1px 3px 1px rgba(0, 0, 0, 0.15);\n",
              "      filter: drop-shadow(0px 1px 2px rgba(0, 0, 0, 0.3));\n",
              "      fill: #FFFFFF;\n",
              "    }\n",
              "  </style>\n",
              "\n",
              "      <script>\n",
              "        const buttonEl =\n",
              "          document.querySelector('#df-d9ee75f8-a6b2-40d1-a384-a0d71bb6ccfd button.colab-df-convert');\n",
              "        buttonEl.style.display =\n",
              "          google.colab.kernel.accessAllowed ? 'block' : 'none';\n",
              "\n",
              "        async function convertToInteractive(key) {\n",
              "          const element = document.querySelector('#df-d9ee75f8-a6b2-40d1-a384-a0d71bb6ccfd');\n",
              "          const dataTable =\n",
              "            await google.colab.kernel.invokeFunction('convertToInteractive',\n",
              "                                                     [key], {});\n",
              "          if (!dataTable) return;\n",
              "\n",
              "          const docLinkHtml = 'Like what you see? Visit the ' +\n",
              "            '<a target=\"_blank\" href=https://colab.research.google.com/notebooks/data_table.ipynb>data table notebook</a>'\n",
              "            + ' to learn more about interactive tables.';\n",
              "          element.innerHTML = '';\n",
              "          dataTable['output_type'] = 'display_data';\n",
              "          await google.colab.output.renderOutput(dataTable, element);\n",
              "          const docLink = document.createElement('div');\n",
              "          docLink.innerHTML = docLinkHtml;\n",
              "          element.appendChild(docLink);\n",
              "        }\n",
              "      </script>\n",
              "    </div>\n",
              "  </div>\n",
              "  "
            ]
          },
          "metadata": {},
          "execution_count": 51
        }
      ]
    },
    {
      "cell_type": "code",
      "source": [
        "# Question #4:\n",
        "# Create 11 order polynomial model with the variables x and y from above.\n",
        "\n",
        "# Here we use a polynomial of the 11rd order (cubic) \n",
        "f1 = np.polyfit(x, y, 11)\n",
        "p1 = np.poly1d(f1)\n",
        "print(p1)\n",
        "PlotPolly(p1,x,y, 'Highway MPG')"
      ],
      "metadata": {
        "colab": {
          "base_uri": "https://localhost:8080/",
          "height": 364
        },
        "id": "j0haH4XnR1JZ",
        "outputId": "f3e8b784-8726-4955-daf2-d6adef6b75a7"
      },
      "execution_count": 52,
      "outputs": [
        {
          "output_type": "stream",
          "name": "stdout",
          "text": [
            "            11             10             9           8         7\n",
            "-1.243e-08 x  + 4.722e-06 x  - 0.0008028 x + 0.08056 x - 5.297 x\n",
            "          6        5             4             3             2\n",
            " + 239.5 x - 7588 x + 1.684e+05 x - 2.565e+06 x + 2.551e+07 x - 1.491e+08 x + 3.879e+08\n"
          ]
        },
        {
          "output_type": "display_data",
          "data": {
            "text/plain": [
              "<Figure size 432x288 with 1 Axes>"
            ],
            "image/png": "[encoded data removed]"
          },
          "metadata": {
            "needs_background": "light"
          }
        }
      ]
    },
    {
      "cell_type": "code",
      "source": [
        "#Question #5:\n",
        "#Create a pipeline that standardizes the data, then produce a prediction using a linear regression model using the features Z and target y.\n",
        "\n",
        "Input=[('scale',StandardScaler()),('model',LinearRegression())]\n",
        "\n",
        "pipe=Pipeline(Input)\n",
        "\n",
        "pipe.fit(Z,y)\n",
        "\n",
        "ypipe=pipe.predict(Z)\n",
        "ypipe[0:10]"
      ],
      "metadata": {
        "colab": {
          "base_uri": "https://localhost:8080/"
        },
        "id": "4-7cVJugR1Po",
        "outputId": "4655c301-fd2a-4cee-a2fa-e07857cbb518"
      },
      "execution_count": 53,
      "outputs": [
        {
          "output_type": "execute_result",
          "data": {
            "text/plain": [
              "array([13699.00138847, 13699.00138847, 19055.18075089, 10621.20889105,\n",
              "       15519.94133137, 13868.36830279, 15455.25561838, 15973.23070656,\n",
              "       17613.77045652, 10722.84396625])"
            ]
          },
          "metadata": {},
          "execution_count": 53
        }
      ]
    },
    {
      "cell_type": "markdown",
      "source": [
        "### Evidencias\n",
        "\n",
        "![Captura de pantalla 2022-11-01 130136.jpg](data:image/jpeg;base64,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)"
      ],
      "metadata": {
        "id": "mjDl61FJ0LPx"
      }
    },
    {
      "cell_type": "code",
      "source": [],
      "metadata": {
        "id": "cAxeLkG7klWP"
      },
      "execution_count": 53,
      "outputs": []
    }
  ]
}
